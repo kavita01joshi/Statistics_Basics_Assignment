{
  "nbformat": 4,
  "nbformat_minor": 0,
  "metadata": {
    "colab": {
      "provenance": []
    },
    "kernelspec": {
      "name": "python3",
      "display_name": "Python 3"
    },
    "language_info": {
      "name": "python"
    }
  },
  "cells": [
    {
      "cell_type": "markdown",
      "source": [
        "1-  What is the difference between descriptive statistics and inferential statistics? Explain with examples.\n",
        "\n",
        " **Descriptive Statistics**\n",
        "\n",
        "* It consists of organizing and summarising the complete data/ population.(talks about complete data)\n",
        "* Whenever you want exact statistics to take any bussiness decision, will use **descriptive statistics**\n",
        "\n",
        "ex- 1. Avg ht/wth of the student in any class/ state/ region/country\n",
        "2. CEO of an airline company >>> Avg delay of fights of that company\n",
        "\n",
        "**Inferential Statistics**\n",
        "* It consists of using sample data that has been measurment to form conclusion about a population (talk about sample data) >> (conclusion for population made from sample)\n",
        "\n",
        "ex- 1. you can not count no of tree of the jungle.\n",
        "\n",
        "2. You can not go to 150 car people of india to record their weights. >>> with the given sample data can we conclude about population.\n",
        "\n",
        "**Key Differences:**\n",
        "\n",
        "Feature>>\tDescriptive Statistics >>\tInferential Statistics\n",
        "1. Purpose >>\tDescribe and summarize data\t>> Make inferences about a population\n",
        "2. Data >>\tPopulation or sample >>\tSample\n",
        "3. Results\t>> Facts about the data\t>> Estimates or predictions about a population\n",
        "4. Tools\t>> Measures of central tendency, dispersion, charts >>\tHypothesis testing, confidence intervals, regression"
      ],
      "metadata": {
        "id": "K6mz4pAeyebj"
      }
    },
    {
      "cell_type": "markdown",
      "source": [
        "2-  What is sampling in statistics? Explain the differences between random and stratified sampling.\n",
        "\n",
        "**Sampling**\n",
        "\n",
        "* Sampling is a process used in satistical analysis where a perdetermined number of observations are taken from a larger population.\n",
        "* The goal of sampling is to select a representative subset of the population that can be used to make inferences about the entire population.\n",
        "* This is often necessary when it is impactical or impossible to study every individual in the population.\n",
        "\n",
        "**Random sampling**\n",
        "* Random sampling is a method of selecting a sample from a population where every member of the population has an equal chance of being selected. This helps to ensure that the sample is representative of the population and reduces the likelihood of bais.\n",
        "\n",
        "* ex- Putting all the name of students in a school into a hat and drawing out 50 names to survey.\n",
        "\n",
        "**Stratified sampling**\n",
        "* Statified sampling is a method of sampling that involves dividing a population into a small subgroups, known as **strata**. The Strata are formed based on shared characteristics (e.g., age, gender, income level). After the population are divied into strata, a random sample is taken from each stratum. This method is used to ensure that certain subgroups are represented in the sample in proportion to their size in the population.\n",
        "\n",
        "* ex- If you want to survery students at a university and ensure that each year level (freshman, sophomore, junior, senior) is represented, you would divide the student population into four strata based year level and then randomly sample from each stratum.\n",
        "\n",
        "**Key Differences:**\n",
        "\n",
        "Feature  >>\t Random Sampling  >>\t Stratified Sampling\n",
        "1. Process  >>\t Selects individuals randomly from the entire population  >>    Divides population into subgroups (strata) and then randomly samples from each stratum\n",
        "2. Purpose\t >>  To obtain a representative sample and minimize bias\t >>  To ensure representation of specific subgroups in the sample\n",
        "3. Applicability  >> \tSuitable for homogeneous populations  >> \tSuitable for heterogeneous populations where subgroups are important"
      ],
      "metadata": {
        "id": "wy7gRXhxyrK5"
      }
    },
    {
      "cell_type": "markdown",
      "source": [
        "3. Define mean, median, and mode. Explain why these measures of centraltendency are important.\n",
        "\n",
        "**Descriptive statistics** - Summarization of data without adding or subtracting anything at a specific instance/time.\n",
        "\n",
        "1. **Measures of central tendency**\n",
        "2. **Measures of dispersion**\n",
        "3. **Measures of symmetricity**  \n",
        "\n",
        "**Measures of central tendency** -\n",
        "* Measures of central tendency are single values that describe the center point of a dataset.\n",
        "* They are used to summarize a dataset and provide a typical or average value around which the data cluster.\n",
        "* The three most common measures of central tendency are **mean, media, and mode.**\n",
        "\n",
        "* **Mean-** The mean, also known as the average, is calculated by summing all the values in a dataset and dividing by the number of values. It is sensitive to outliers(extreme values).\n",
        "   * **Example-** For the dataset{1,2,3,4,5} the mean is (1+2+3+4+5)/5 = 3.\n",
        "\n",
        "\n",
        "* **Median-** The meadian is the middle value in a dataset that has been ordered from least to greatest. If the dataset has an even number of values, the median is the average of the two middle values. The median is less affected by outliers than the mean.\n",
        "   * **Example-** For the dataset{1,2,3,4,5}, the median is 3. For the dataset {1,2,3,4,5,6}, the median is (3+4)/2 = 3.5.\n",
        "  \n",
        "* **Mode-** The mode is the value that appears most frequently in a dataset. A dataset can have one mode (unimodal), more than one mode (multimodal), or no mode.\n",
        "   * **Example-** For the dataset {1,2,2,3,4}, the mode is 2. For the dataset{1,2,3,4}, there is no mode . For the dataset {1,2,2,3,3,4}, the modes are 2 and 3.\n",
        "\n",
        "\n",
        "**Importance of Measures of Central Tendency-** Measures of central tendency are important for several reasons:\n",
        "\n",
        "\n",
        "* **Summarizing Data-** They provide a single value that represents the typical value of a dataset, making it easier to undertand and interpret large amounts of data.\n",
        "* **Comparing Datasets-** They allow for easy comparison of different datasets by providing a central point for each dataset.\n",
        "* **Identifying Trends-** They can help identify trends and patterns in data over time.\n",
        "* **Making Predictions-** In some cases, they can be used to make predictions about future values.\n",
        "* **Understanding Data Distribution-** When used in conjunction with measures of dispersion(like standard deviation), they provide insights into the shape and spread of the data distribution."
      ],
      "metadata": {
        "id": "KLH9KhvifIeF"
      }
    },
    {
      "cell_type": "markdown",
      "metadata": {
        "id": "1c3573fc"
      },
      "source": [
        "4. Explain skewness and kurtosis. What does a positive skew imply about the data?\n",
        "\n",
        "**Skewness**\n",
        "\n",
        "Skewness is a measure of the asymmetry of the probability distribution of a real-valued random variable about its mean. In simpler terms, it indicates how much a dataset is tilted to one side.\n",
        "\n",
        "*   **Positive Skew (Right Skew):** The tail on the right side of the distribution is longer or fatter than the tail on the left side. This means there are more extreme values on the higher end of the dataset. The mean is typically greater than the median in a positively skewed distribution.\n",
        "*   **Negative Skew (Left Skew):** The tail on the left side of the distribution is longer or fatter than the tail on the right side. This means there are more extreme values on the lower end of the dataset. The mean is typically less than the median in a negatively skewed distribution.\n",
        "*   **Zero Skew:** The distribution is symmetrical, meaning both sides are mirror images of each other. The mean and median are typically equal in a perfectly symmetrical distribution.\n",
        "\n",
        "**What does a positive skew imply about the data?**\n",
        "\n",
        "A positive skew implies that the majority of the data points are concentrated on the left side of the distribution, with a tail extending towards the right. This indicates that there are some unusually high values in the dataset that are pulling the mean towards the right.\n",
        "\n",
        "**Kurtosis**\n",
        "\n",
        "Kurtosis is a measure of the \"tailedness\" of the probability distribution of a real-valued random variable. It describes the shape of the distribution's tails in relation to the rest of the distribution. In simpler terms, it tells us how many outliers are present in the distribution.\n",
        "\n",
        "*   **Leptokurtic (High Kurtosis):** The distribution has heavy tails and a sharp peak. This indicates a higher probability of extreme values (outliers).\n",
        "*   **Mesokurtic (Medium Kurtosis):** The distribution has tails and a peak similar to that of a normal distribution.\n",
        "*   **Platykurtic (Low Kurtosis):** The distribution has light tails and a flat peak. This indicates a lower probability of extreme values.\n",
        "\n",
        "**Importance of Skewness and Kurtosis**\n",
        "\n",
        "*   **Understanding Data Distribution:** Skewness and kurtosis provide valuable insights into the shape and characteristics of a dataset's distribution.\n",
        "*   **Choosing Appropriate Statistical Methods:** The skewness and kurtosis of data can influence the choice of appropriate statistical tests and models. Some statistical methods assume a normal distribution (zero skew and mesokurtic kurtosis).\n",
        "*   **Identifying Outliers:** Kurtosis helps in identifying the presence and impact of outliers in the dataset.\n",
        "*   **Risk Management:** In finance, skewness and kurtosis are used to assess the risk associated with investments."
      ]
    },
    {
      "cell_type": "markdown",
      "source": [
        "5. Implement a Python program to compute the mean, median, and mode of\n",
        "a given list of numbers.\n",
        "numbers = [12, 15, 12, 18, 19, 12, 20, 22, 19, 19, 24, 24, 24, 26, 28]"
      ],
      "metadata": {
        "id": "MYWzStryIKgC"
      }
    },
    {
      "cell_type": "code",
      "source": [
        "from collections import Counter\n",
        "numbers = [12, 15, 12, 18, 19, 12, 20, 22, 19, 19, 24, 24, 24, 26, 28]\n",
        "\n",
        "# Calculate Mean\n",
        "mean = sum(numbers) / len(numbers)\n",
        "print(f\"Mean: {mean}\")\n",
        "\n",
        "# Calculate Median\n",
        "numbers_sorted = sorted(numbers)\n",
        "n = len(numbers_sorted)\n",
        "if n % 2 == 0:\n",
        "  median = (numbers_sorted[n//2 - 1] + numbers_sorted[n//2]) / 2\n",
        "else:\n",
        "  median = numbers_sorted[n//2]\n",
        "print(f\"Median: {median}\")\n",
        "\n",
        "# Calculate Mode\n",
        "counts = Counter(numbers)\n",
        "mode = counts.most_common(1)[0][0]\n",
        "print(f\"Mode: {mode}\")"
      ],
      "metadata": {
        "colab": {
          "base_uri": "https://localhost:8080/"
        },
        "id": "h1XxCf3NNzV6",
        "outputId": "ccd107fc-97eb-48a3-ff54-d24f32eef0d9"
      },
      "execution_count": null,
      "outputs": [
        {
          "output_type": "stream",
          "name": "stdout",
          "text": [
            "Mean: 19.6\n",
            "Median: 19\n",
            "Mode: 12\n"
          ]
        }
      ]
    },
    {
      "cell_type": "markdown",
      "source": [
        "6: Compute the covariance and correlation coefficient between the following\n",
        "two datasets provided as lists in Python:\n",
        "list_x = [10, 20, 30, 40, 50]\n",
        "list_y = [15, 25, 35, 45, 60]"
      ],
      "metadata": {
        "id": "oBRbD8w8OfPE"
      }
    },
    {
      "cell_type": "code",
      "source": [
        "#6: Compute the covariance and correlation coefficient between the following two datasets provided as lists in Python: list_x = [10, 20, 30, 40, 50] list_y = [15, 25, 35, 45, 60]\n",
        "\n",
        "list_x = [10, 20, 30, 40, 50]\n",
        "list_y = [15, 25, 35, 45, 60]\n",
        "\n",
        "# Covariance\n",
        "mean_x = sum(list_x) / len(list_x)\n",
        "mean_y = sum(list_y) / len(list_y)\n",
        "\n",
        "cov = sum((x - mean_x) * (y - mean_y) for x, y in zip(list_x, list_y)) / (len(list_x) - 1)\n",
        "print(f\"Covariance: {cov}\")\n",
        "\n",
        "# Correlation\n",
        "con = cov / (std_x * std_y)\n",
        "print(f\"Correlation: {con}\")\n",
        "\n"
      ],
      "metadata": {
        "colab": {
          "base_uri": "https://localhost:8080/",
          "height": 228
        },
        "id": "MtMJpAJMOoCI",
        "outputId": "34f10d69-07c4-4c53-9e9c-b4bcc7afb62d"
      },
      "execution_count": null,
      "outputs": [
        {
          "output_type": "stream",
          "name": "stdout",
          "text": [
            "Covariance: 275.0\n"
          ]
        },
        {
          "output_type": "error",
          "ename": "NameError",
          "evalue": "name 'std_x' is not defined",
          "traceback": [
            "\u001b[0;31m---------------------------------------------------------------------------\u001b[0m",
            "\u001b[0;31mNameError\u001b[0m                                 Traceback (most recent call last)",
            "\u001b[0;32m/tmp/ipython-input-702519387.py\u001b[0m in \u001b[0;36m<cell line: 0>\u001b[0;34m()\u001b[0m\n\u001b[1;32m     12\u001b[0m \u001b[0;34m\u001b[0m\u001b[0m\n\u001b[1;32m     13\u001b[0m \u001b[0;31m# Correlation\u001b[0m\u001b[0;34m\u001b[0m\u001b[0;34m\u001b[0m\u001b[0m\n\u001b[0;32m---> 14\u001b[0;31m \u001b[0mcon\u001b[0m \u001b[0;34m=\u001b[0m \u001b[0mcov\u001b[0m \u001b[0;34m/\u001b[0m \u001b[0;34m(\u001b[0m\u001b[0mstd_x\u001b[0m \u001b[0;34m*\u001b[0m \u001b[0mstd_y\u001b[0m\u001b[0;34m)\u001b[0m\u001b[0;34m\u001b[0m\u001b[0;34m\u001b[0m\u001b[0m\n\u001b[0m\u001b[1;32m     15\u001b[0m \u001b[0mprint\u001b[0m\u001b[0;34m(\u001b[0m\u001b[0;34mf\"Correlation: {con}\"\u001b[0m\u001b[0;34m)\u001b[0m\u001b[0;34m\u001b[0m\u001b[0;34m\u001b[0m\u001b[0m\n\u001b[1;32m     16\u001b[0m \u001b[0;34m\u001b[0m\u001b[0m\n",
            "\u001b[0;31mNameError\u001b[0m: name 'std_x' is not defined"
          ]
        }
      ]
    },
    {
      "cell_type": "code",
      "source": [
        "# 7: Write a Python script to draw a boxplot for the following numeric list and identify its outliers.\n",
        "\n",
        "# Explain the result: data = [12, 14, 14, 15, 18, 19, 19, 21, 22, 22, 23, 23, 24, 26, 29, 35]\n",
        "\n",
        "data = [12, 14, 14, 15, 18, 19, 19, 21, 22, 22, 23, 23, 24, 26, 29, 35]\n",
        "\n",
        "import seaborn as sns\n",
        "import matplotlib.pyplot as plt\n",
        "\n",
        "sns.boxplot(x=data)\n",
        "plt.show()\n"
      ],
      "metadata": {
        "colab": {
          "base_uri": "https://localhost:8080/",
          "height": 430
        },
        "id": "yb4ChzHAkt8-",
        "outputId": "5967361b-86ed-44a6-8cbe-ac97851a869c"
      },
      "execution_count": 3,
      "outputs": [
        {
          "output_type": "display_data",
          "data": {
            "text/plain": [
              "<Figure size 640x480 with 1 Axes>"
            ],
            "image/png": "[encoded data removed]"
          },
          "metadata": {}
        }
      ]
    },
    {
      "cell_type": "markdown",
      "source": [
        "8. You are working as a data analyst in an e-commerce company. The\n",
        "marketing team wants to know if there is a relationship between advertising spend and\n",
        "daily sales.\n",
        "\n",
        "● Explain how you would use covariance and correlation to explore this\n",
        "relationship.\n",
        "\n",
        "   * Covariance shows the **direction** of the relationship between two variables (positive, negative, or none).\n",
        "\n",
        "   * Correlation shows both the **direction and strength** of the relationship, scaled between −1 and +1, dimessions quantity.\n",
        "\n",
        "● Write Python code to compute the correlation between the two lists:\n",
        "\n",
        "advertising_spend = [200, 250, 300, 400, 500]\n",
        "\n",
        "daily_sales = [2200, 2450, 2750, 3200, 4000]"
      ],
      "metadata": {
        "id": "sTKaeafB5Z78"
      }
    },
    {
      "cell_type": "code",
      "source": [
        "#● Write Python code to compute the correlation between the two lists:\n",
        "\n",
        "import numpy as np\n",
        "\n",
        "advertising_spend = [200, 250, 300, 400, 500]\n",
        "\n",
        "daily_sales = [2200, 2450, 2750, 3200, 4000]\n",
        "\n",
        "\n",
        "correlation = np.corrcoef(advertising_spend, daily_sales)\n",
        "cor1 = correlation[0, 1]\n",
        "print(f\"Correlation: {cor1}\")"
      ],
      "metadata": {
        "colab": {
          "base_uri": "https://localhost:8080/"
        },
        "id": "mUuYRgzE2pua",
        "outputId": "fdeafffe-19b8-45a5-b6b5-2897ef325822"
      },
      "execution_count": 5,
      "outputs": [
        {
          "output_type": "stream",
          "name": "stdout",
          "text": [
            "Correlation: 0.9935824101653329\n"
          ]
        }
      ]
    },
    {
      "cell_type": "code",
      "source": [
        "advertising_spend = [200, 250, 300, 400, 500]\n",
        "daily_sales = [2200, 2450, 2750, 3200, 4000]\n",
        "\n",
        "import seaborn as sns\n",
        "import matplotlib.pyplot as plt\n",
        "\n",
        "sns.scatterplot(x=advertising_spend, y=daily_sales)\n",
        "plt.show()\n",
        "\n",
        "\n"
      ],
      "metadata": {
        "colab": {
          "base_uri": "https://localhost:8080/",
          "height": 430
        },
        "id": "DStcgy6B5UVK",
        "outputId": "f147fad7-7f5c-4de8-db3d-1f4ec8a34755"
      },
      "execution_count": 1,
      "outputs": [
        {
          "output_type": "display_data",
          "data": {
            "text/plain": [
              "<Figure size 640x480 with 1 Axes>"
            ],
            "image/png": "[encoded data removed]"
          },
          "metadata": {}
        }
      ]
    },
    {
      "cell_type": "markdown",
      "source": [
        "Question 9: Your team has collected customer satisfaction survey data on a scale of 1-10 and wants to understand its distribution before launching a new product.\n",
        "\n",
        "● Explain which summary statistics and visualizations (e.g. mean, standard\n",
        "deviation, histogram) you’d use.\n",
        "\n",
        "**Summary Statistics to Use**\n",
        "\n",
        "Mean: Shows the average satisfaction level. A higher mean suggests overall positive sentiment.\n",
        "\n",
        "Median: Useful for understanding the midpoint, especially if the data is skewed.\n",
        "\n",
        "Mode: Reveals the most common rating—helpful for spotting popular opinions.\n",
        "\n",
        "Standard Deviation: Indicates how spread out the ratings are. A low value means most customers gave similar scores.\n",
        "\n",
        "Minimum & Maximum: Show the range of satisfaction.\n",
        "\n",
        "Quartiles & IQR: Help detect outliers and understand how tightly scores are clustered.\n",
        "\n",
        "\n",
        "**Visualizations to Use**\n",
        "\n",
        "Histogram: Displays the frequency of each score (1–10). Helps you spot skewness, gaps, or clustering.\n",
        "\n",
        "Boxplot: Highlights the median, quartiles, and any outliers. Great for comparing distributions across different customer segments.\n",
        "\n",
        "Bar Chart: If you want to show exact counts for each score, especially useful when scores are discrete.\n",
        "\n",
        "Density Plot (optional): Smooths out the histogram to show the overall shape of the distribution.\n",
        "\n",
        "● Write Python code to create a histogram using Matplotlib for the survey data:\n",
        "survey_scores = [7, 8, 5, 9, 6, 7, 8, 9, 10, 4, 7, 6, 9, 8, 7]"
      ],
      "metadata": {
        "id": "AFhvkCzn94hO"
      }
    },
    {
      "cell_type": "code",
      "source": [
        "# Write Python code to create a histogram using Matplotlib for the survey data:\n",
        "\n",
        "import matplotlib.pyplot as plt\n",
        "\n",
        "# Survey scores data\n",
        "survey_scores = [7, 8, 5, 9, 6, 7, 8, 9, 10, 4, 7, 6, 9, 8, 7]\n",
        "\n",
        "# Create histogram\n",
        "plt.figure(figsize=(8, 6))\n",
        "plt.hist(survey_scores, bins=7, color='mediumseagreen', edgecolor='black')\n",
        "plt.title('Customer Satisfaction Survey Scores', fontsize=14)\n",
        "plt.xlabel('Score (1–10)', fontsize=12)\n",
        "plt.ylabel('Number of Responses', fontsize=12)\n",
        "plt.grid(axis='y', linestyle='--', alpha=0.7)\n",
        "plt.tight_layout()\n",
        "plt.show()"
      ],
      "metadata": {
        "colab": {
          "base_uri": "https://localhost:8080/",
          "height": 607
        },
        "id": "cl5DwlNB_D-o",
        "outputId": "5100cadc-f6dd-4feb-d214-8b8e4b7e1277"
      },
      "execution_count": 7,
      "outputs": [
        {
          "output_type": "display_data",
          "data": {
            "text/plain": [
              "<Figure size 800x600 with 1 Axes>"
            ],
            "image/png": "[encoded data removed]"
          },
          "metadata": {}
        }
      ]
    }
  ]
}